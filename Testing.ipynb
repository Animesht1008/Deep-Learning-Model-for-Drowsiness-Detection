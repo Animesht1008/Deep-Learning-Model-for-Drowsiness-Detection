{
 "cells": [
  {
   "cell_type": "markdown",
   "metadata": {},
   "source": [
    "# Mobile Net V2"
   ]
  },
  {
   "cell_type": "code",
   "execution_count": 1,
   "metadata": {},
   "outputs": [
    {
     "name": "stdout",
     "output_type": "stream",
     "text": [
      "WARNING:tensorflow:From c:\\Users\\prans\\AppData\\Local\\Programs\\Python\\Python311\\Lib\\site-packages\\keras\\src\\losses.py:2976: The name tf.losses.sparse_softmax_cross_entropy is deprecated. Please use tf.compat.v1.losses.sparse_softmax_cross_entropy instead.\n",
      "\n",
      "WARNING:tensorflow:From c:\\Users\\prans\\AppData\\Local\\Programs\\Python\\Python311\\Lib\\site-packages\\keras\\src\\backend.py:1398: The name tf.executing_eagerly_outside_functions is deprecated. Please use tf.compat.v1.executing_eagerly_outside_functions instead.\n",
      "\n",
      "WARNING:tensorflow:From c:\\Users\\prans\\AppData\\Local\\Programs\\Python\\Python311\\Lib\\site-packages\\keras\\src\\layers\\normalization\\batch_normalization.py:979: The name tf.nn.fused_batch_norm is deprecated. Please use tf.compat.v1.nn.fused_batch_norm instead.\n",
      "\n",
      "Found 272 images belonging to 2 classes.\n"
     ]
    },
    {
     "name": "stderr",
     "output_type": "stream",
     "text": [
      "C:\\Users\\prans\\AppData\\Local\\Temp\\ipykernel_9856\\1209929431.py:24: UserWarning: `Model.predict_generator` is deprecated and will be removed in a future version. Please use `Model.predict`, which supports generators.\n",
      "  y_pred = model.predict_generator(test_generator)\n"
     ]
    },
    {
     "name": "stdout",
     "output_type": "stream",
     "text": [
      "Confusion Matrix:\n",
      " [[115  12]\n",
      " [  6 139]]\n",
      "Accuracy: 93.38%\n",
      "Precision: 92.05%\n",
      "Recall: 95.86%\n",
      "F1 Score: 0.94\n"
     ]
    }
   ],
   "source": [
    "from keras.preprocessing.image import ImageDataGenerator\n",
    "from keras.models import load_model\n",
    "from sklearn.metrics import confusion_matrix, accuracy_score, precision_score, recall_score, f1_score\n",
    "\n",
    "# Load your trained CNN model\n",
    "model = load_model('27_11_2023_(15_29)_drowsiness_detection_mobilenetv2.h5')\n",
    "\n",
    "# Define the path to your testing dataset\n",
    "test_data_dir = './test/'\n",
    "\n",
    "# Set up an ImageDataGenerator for testing data\n",
    "test_datagen = ImageDataGenerator(rescale=1./255)  # You may need to adjust other parameters based on your training data preprocessing\n",
    "\n",
    "# Set up the generator for testing data\n",
    "test_generator = test_datagen.flow_from_directory(\n",
    "    test_data_dir,\n",
    "    target_size=(224, 224),  # Replace with the size your model expects\n",
    "    batch_size=64,\n",
    "    class_mode='binary',  # Assuming you have binary classification (drowsy or non-drowsy)\n",
    "    shuffle=False  # Important to set this to False for evaluation\n",
    ")\n",
    "\n",
    "# Make predictions on the testing data\n",
    "y_pred = model.predict_generator(test_generator)\n",
    "\n",
    "# Convert probabilities to class labels\n",
    "y_pred_labels = (y_pred > 0.5).astype(int)\n",
    "\n",
    "# Get true labels\n",
    "y_true = test_generator.classes\n",
    "\n",
    "# Confusion Matrix\n",
    "conf_matrix = confusion_matrix(y_true, y_pred_labels)\n",
    "print(\"Confusion Matrix:\\n\", conf_matrix)\n",
    "\n",
    "# Accuracy\n",
    "accuracy = accuracy_score(y_true, y_pred_labels)\n",
    "print(\"Accuracy: {:.2f}%\".format(accuracy * 100))\n",
    "\n",
    "# Precision\n",
    "precision = precision_score(y_true, y_pred_labels)\n",
    "print(\"Precision: {:.2f}%\".format(precision * 100))\n",
    "\n",
    "# Recall\n",
    "recall = recall_score(y_true, y_pred_labels)\n",
    "print(\"Recall: {:.2f}%\".format(recall * 100))\n",
    "\n",
    "# F1 Score\n",
    "f1 = f1_score(y_true, y_pred_labels)\n",
    "print(\"F1 Score: {:.2f}\".format(f1))"
   ]
  },
  {
   "cell_type": "code",
   "execution_count": 2,
   "metadata": {},
   "outputs": [
    {
     "name": "stdout",
     "output_type": "stream",
     "text": [
      "Found 272 images belonging to 2 classes.\n"
     ]
    },
    {
     "name": "stderr",
     "output_type": "stream",
     "text": [
      "C:\\Users\\prans\\AppData\\Local\\Temp\\ipykernel_9856\\1154281781.py:20: UserWarning: `Model.predict_generator` is deprecated and will be removed in a future version. Please use `Model.predict`, which supports generators.\n",
      "  y_pred = model.predict_generator(test_generator)\n"
     ]
    },
    {
     "name": "stdout",
     "output_type": "stream",
     "text": [
      "Confusion Matrix:\n",
      " [[109  18]\n",
      " [  3 142]]\n",
      "Accuracy: 92.28%\n",
      "Precision: 88.75%\n",
      "Recall: 97.93%\n",
      "F1 Score: 0.93\n"
     ]
    }
   ],
   "source": [
    "# Load your trained CNN model\n",
    "model = load_model('27_11_2023_(00_17)_drowsiness_detection_mobilenetv2.h5')\n",
    "\n",
    "# Define the path to your testing dataset\n",
    "test_data_dir = './test/'\n",
    "\n",
    "# Set up an ImageDataGenerator for testing data\n",
    "test_datagen = ImageDataGenerator(rescale=1./255)  # You may need to adjust other parameters based on your training data preprocessing\n",
    "\n",
    "# Set up the generator for testing data\n",
    "test_generator = test_datagen.flow_from_directory(\n",
    "    test_data_dir,\n",
    "    target_size=(224, 224),  # Replace with the size your model expects\n",
    "    batch_size=64,\n",
    "    class_mode='binary',  # Assuming you have binary classification (drowsy or non-drowsy)\n",
    "    shuffle=False  # Important to set this to False for evaluation\n",
    ")\n",
    "\n",
    "# Make predictions on the testing data\n",
    "y_pred = model.predict_generator(test_generator)\n",
    "\n",
    "# Convert probabilities to class labels\n",
    "y_pred_labels = (y_pred > 0.5).astype(int)\n",
    "\n",
    "# Get true labels\n",
    "y_true = test_generator.classes\n",
    "\n",
    "# Confusion Matrix\n",
    "conf_matrix = confusion_matrix(y_true, y_pred_labels)\n",
    "print(\"Confusion Matrix:\\n\", conf_matrix)\n",
    "\n",
    "# Accuracy\n",
    "accuracy = accuracy_score(y_true, y_pred_labels)\n",
    "print(\"Accuracy: {:.2f}%\".format(accuracy * 100))\n",
    "\n",
    "# Precision\n",
    "precision = precision_score(y_true, y_pred_labels)\n",
    "print(\"Precision: {:.2f}%\".format(precision * 100))\n",
    "\n",
    "# Recall\n",
    "recall = recall_score(y_true, y_pred_labels)\n",
    "print(\"Recall: {:.2f}%\".format(recall * 100))\n",
    "\n",
    "# F1 Score\n",
    "f1 = f1_score(y_true, y_pred_labels)\n",
    "print(\"F1 Score: {:.2f}\".format(f1))"
   ]
  },
  {
   "cell_type": "markdown",
   "metadata": {},
   "source": [
    "# Effecient Net V2S"
   ]
  },
  {
   "cell_type": "code",
   "execution_count": 3,
   "metadata": {},
   "outputs": [
    {
     "name": "stdout",
     "output_type": "stream",
     "text": [
      "Found 272 images belonging to 2 classes.\n"
     ]
    },
    {
     "name": "stderr",
     "output_type": "stream",
     "text": [
      "C:\\Users\\prans\\AppData\\Local\\Temp\\ipykernel_9856\\2681898832.py:20: UserWarning: `Model.predict_generator` is deprecated and will be removed in a future version. Please use `Model.predict`, which supports generators.\n",
      "  y_pred = model.predict_generator(test_generator)\n"
     ]
    },
    {
     "name": "stdout",
     "output_type": "stream",
     "text": [
      "Confusion Matrix:\n",
      " [[127   0]\n",
      " [145   0]]\n",
      "Accuracy: 46.69%\n",
      "Precision: 0.00%\n",
      "Recall: 0.00%\n",
      "F1 Score: 0.00\n"
     ]
    },
    {
     "name": "stderr",
     "output_type": "stream",
     "text": [
      "c:\\Users\\prans\\AppData\\Local\\Programs\\Python\\Python311\\Lib\\site-packages\\sklearn\\metrics\\_classification.py:1471: UndefinedMetricWarning: Precision is ill-defined and being set to 0.0 due to no predicted samples. Use `zero_division` parameter to control this behavior.\n",
      "  _warn_prf(average, modifier, msg_start, len(result))\n"
     ]
    }
   ],
   "source": [
    "# Load your trained CNN model\n",
    "model = load_model('effecientnetv2.h5')\n",
    "\n",
    "# Define the path to your testing dataset\n",
    "test_data_dir = './test/'\n",
    "\n",
    "# Set up an ImageDataGenerator for testing data\n",
    "test_datagen = ImageDataGenerator(rescale=1./255)  # You may need to adjust other parameters based on your training data preprocessing\n",
    "\n",
    "# Set up the generator for testing data\n",
    "test_generator = test_datagen.flow_from_directory(\n",
    "    test_data_dir,\n",
    "    target_size=(224, 224),  # Replace with the size your model expects\n",
    "    batch_size=64,\n",
    "    class_mode='binary',  # Assuming you have binary classification (drowsy or non-drowsy)\n",
    "    shuffle=False  # Important to set this to False for evaluation\n",
    ")\n",
    "\n",
    "# Make predictions on the testing data\n",
    "y_pred = model.predict_generator(test_generator)\n",
    "\n",
    "# Convert probabilities to class labels\n",
    "y_pred_labels = (y_pred > 0.5).astype(int)\n",
    "\n",
    "# Get true labels\n",
    "y_true = test_generator.classes\n",
    "\n",
    "# Confusion Matrix\n",
    "conf_matrix = confusion_matrix(y_true, y_pred_labels)\n",
    "print(\"Confusion Matrix:\\n\", conf_matrix)\n",
    "\n",
    "# Accuracy\n",
    "accuracy = accuracy_score(y_true, y_pred_labels)\n",
    "print(\"Accuracy: {:.2f}%\".format(accuracy * 100))\n",
    "\n",
    "# Precision\n",
    "precision = precision_score(y_true, y_pred_labels)\n",
    "print(\"Precision: {:.2f}%\".format(precision * 100))\n",
    "\n",
    "# Recall\n",
    "recall = recall_score(y_true, y_pred_labels)\n",
    "print(\"Recall: {:.2f}%\".format(recall * 100))\n",
    "\n",
    "# F1 Score\n",
    "f1 = f1_score(y_true, y_pred_labels)\n",
    "print(\"F1 Score: {:.2f}\".format(f1))"
   ]
  },
  {
   "cell_type": "markdown",
   "metadata": {},
   "source": [
    "# Xception"
   ]
  },
  {
   "cell_type": "code",
   "execution_count": 4,
   "metadata": {},
   "outputs": [
    {
     "name": "stdout",
     "output_type": "stream",
     "text": [
      "Found 272 images belonging to 2 classes.\n"
     ]
    },
    {
     "name": "stderr",
     "output_type": "stream",
     "text": [
      "C:\\Users\\prans\\AppData\\Local\\Temp\\ipykernel_9856\\1383449742.py:20: UserWarning: `Model.predict_generator` is deprecated and will be removed in a future version. Please use `Model.predict`, which supports generators.\n",
      "  y_pred = model.predict_generator(test_generator)\n"
     ]
    },
    {
     "name": "stdout",
     "output_type": "stream",
     "text": [
      "Confusion Matrix:\n",
      " [[122   5]\n",
      " [ 14 131]]\n",
      "Accuracy: 93.01%\n",
      "Precision: 96.32%\n",
      "Recall: 90.34%\n",
      "F1 Score: 0.93\n"
     ]
    }
   ],
   "source": [
    "# Load your trained CNN model\n",
    "model = load_model('drowsiness_detection_xception1.h5')\n",
    "\n",
    "# Define the path to your testing dataset\n",
    "test_data_dir = './test/'\n",
    "\n",
    "# Set up an ImageDataGenerator for testing data\n",
    "test_datagen = ImageDataGenerator(rescale=1./255)  # You may need to adjust other parameters based on your training data preprocessing\n",
    "\n",
    "# Set up the generator for testing data\n",
    "test_generator = test_datagen.flow_from_directory(\n",
    "    test_data_dir,\n",
    "    target_size=(224, 224),  # Replace with the size your model expects\n",
    "    batch_size=64,\n",
    "    class_mode='binary',  # Assuming you have binary classification (drowsy or non-drowsy)\n",
    "    shuffle=False  # Important to set this to False for evaluation\n",
    ")\n",
    "\n",
    "# Make predictions on the testing data\n",
    "y_pred = model.predict_generator(test_generator)\n",
    "\n",
    "# Convert probabilities to class labels\n",
    "y_pred_labels = (y_pred > 0.5).astype(int)\n",
    "\n",
    "# Get true labels\n",
    "y_true = test_generator.classes\n",
    "\n",
    "# Confusion Matrix\n",
    "conf_matrix = confusion_matrix(y_true, y_pred_labels)\n",
    "print(\"Confusion Matrix:\\n\", conf_matrix)\n",
    "\n",
    "# Accuracy\n",
    "accuracy = accuracy_score(y_true, y_pred_labels)\n",
    "print(\"Accuracy: {:.2f}%\".format(accuracy * 100))\n",
    "\n",
    "# Precision\n",
    "precision = precision_score(y_true, y_pred_labels)\n",
    "print(\"Precision: {:.2f}%\".format(precision * 100))\n",
    "\n",
    "# Recall\n",
    "recall = recall_score(y_true, y_pred_labels)\n",
    "print(\"Recall: {:.2f}%\".format(recall * 100))\n",
    "\n",
    "# F1 Score\n",
    "f1 = f1_score(y_true, y_pred_labels)\n",
    "print(\"F1 Score: {:.2f}\".format(f1))"
   ]
  },
  {
   "cell_type": "markdown",
   "metadata": {},
   "source": [
    "# ResNet"
   ]
  },
  {
   "cell_type": "code",
   "execution_count": 5,
   "metadata": {},
   "outputs": [
    {
     "name": "stdout",
     "output_type": "stream",
     "text": [
      "Found 272 images belonging to 2 classes.\n"
     ]
    },
    {
     "name": "stderr",
     "output_type": "stream",
     "text": [
      "C:\\Users\\prans\\AppData\\Local\\Temp\\ipykernel_9856\\2740803313.py:20: UserWarning: `Model.predict_generator` is deprecated and will be removed in a future version. Please use `Model.predict`, which supports generators.\n",
      "  y_pred = model.predict_generator(test_generator)\n"
     ]
    },
    {
     "name": "stdout",
     "output_type": "stream",
     "text": [
      "Confusion Matrix:\n",
      " [[79 48]\n",
      " [47 98]]\n",
      "Accuracy: 65.07%\n",
      "Precision: 67.12%\n",
      "Recall: 67.59%\n",
      "F1 Score: 0.67\n"
     ]
    }
   ],
   "source": [
    "# Load your trained CNN model\n",
    "model = load_model('30_11_2023_(17_57)_drowsiness_detection_resnet.h5')\n",
    "\n",
    "# Define the path to your testing dataset\n",
    "test_data_dir = './test/'\n",
    "\n",
    "# Set up an ImageDataGenerator for testing data\n",
    "test_datagen = ImageDataGenerator(rescale=1./255)  # You may need to adjust other parameters based on your training data preprocessing\n",
    "\n",
    "# Set up the generator for testing data\n",
    "test_generator = test_datagen.flow_from_directory(\n",
    "    test_data_dir,\n",
    "    target_size=(224, 224),  # Replace with the size your model expects\n",
    "    batch_size=64,\n",
    "    class_mode='binary',  # Assuming you have binary classification (drowsy or non-drowsy)\n",
    "    shuffle=False  # Important to set this to False for evaluation\n",
    ")\n",
    "\n",
    "# Make predictions on the testing data\n",
    "y_pred = model.predict_generator(test_generator)\n",
    "\n",
    "# Convert probabilities to class labels\n",
    "y_pred_labels = (y_pred > 0.5).astype(int)\n",
    "\n",
    "# Get true labels\n",
    "y_true = test_generator.classes\n",
    "\n",
    "# Confusion Matrix\n",
    "conf_matrix = confusion_matrix(y_true, y_pred_labels)\n",
    "print(\"Confusion Matrix:\\n\", conf_matrix)\n",
    "\n",
    "# Accuracy\n",
    "accuracy = accuracy_score(y_true, y_pred_labels)\n",
    "print(\"Accuracy: {:.2f}%\".format(accuracy * 100))\n",
    "\n",
    "# Precision\n",
    "precision = precision_score(y_true, y_pred_labels)\n",
    "print(\"Precision: {:.2f}%\".format(precision * 100))\n",
    "\n",
    "# Recall\n",
    "recall = recall_score(y_true, y_pred_labels)\n",
    "print(\"Recall: {:.2f}%\".format(recall * 100))\n",
    "\n",
    "# F1 Score\n",
    "f1 = f1_score(y_true, y_pred_labels)\n",
    "print(\"F1 Score: {:.2f}\".format(f1))"
   ]
  },
  {
   "cell_type": "markdown",
   "metadata": {},
   "source": [
    "# MobileNetV3"
   ]
  },
  {
   "cell_type": "code",
   "execution_count": 7,
   "metadata": {},
   "outputs": [
    {
     "name": "stdout",
     "output_type": "stream",
     "text": [
      "Found 272 images belonging to 2 classes.\n"
     ]
    },
    {
     "name": "stderr",
     "output_type": "stream",
     "text": [
      "C:\\Users\\prans\\AppData\\Local\\Temp\\ipykernel_9856\\3882079135.py:20: UserWarning: `Model.predict_generator` is deprecated and will be removed in a future version. Please use `Model.predict`, which supports generators.\n",
      "  y_pred = model.predict_generator(test_generator)\n"
     ]
    },
    {
     "name": "stdout",
     "output_type": "stream",
     "text": [
      "Confusion Matrix:\n",
      " [[127   0]\n",
      " [145   0]]\n",
      "Accuracy: 46.69%\n",
      "Precision: 0.00%\n",
      "Recall: 0.00%\n",
      "F1 Score: 0.00\n"
     ]
    },
    {
     "name": "stderr",
     "output_type": "stream",
     "text": [
      "c:\\Users\\prans\\AppData\\Local\\Programs\\Python\\Python311\\Lib\\site-packages\\sklearn\\metrics\\_classification.py:1471: UndefinedMetricWarning: Precision is ill-defined and being set to 0.0 due to no predicted samples. Use `zero_division` parameter to control this behavior.\n",
      "  _warn_prf(average, modifier, msg_start, len(result))\n"
     ]
    }
   ],
   "source": [
    "# Load your trained CNN model\n",
    "model = load_model('MobilenetV3small.h5')\n",
    "\n",
    "# Define the path to your testing dataset\n",
    "test_data_dir = './test/'\n",
    "\n",
    "# Set up an ImageDataGenerator for testing data\n",
    "test_datagen = ImageDataGenerator(rescale=1./255)  # You may need to adjust other parameters based on your training data preprocessing\n",
    "\n",
    "# Set up the generator for testing data\n",
    "test_generator = test_datagen.flow_from_directory(\n",
    "    test_data_dir,\n",
    "    target_size=(224, 224),  # Replace with the size your model expects\n",
    "    batch_size=64,\n",
    "    class_mode='binary',  # Assuming you have binary classification (drowsy or non-drowsy)\n",
    "    shuffle=False  # Important to set this to False for evaluation\n",
    ")\n",
    "\n",
    "# Make predictions on the testing data\n",
    "y_pred = model.predict_generator(test_generator)\n",
    "\n",
    "# Convert probabilities to class labels\n",
    "y_pred_labels = (y_pred > 0.5).astype(int)\n",
    "\n",
    "# Get true labels\n",
    "y_true = test_generator.classes\n",
    "\n",
    "# Confusion Matrix\n",
    "conf_matrix = confusion_matrix(y_true, y_pred_labels)\n",
    "print(\"Confusion Matrix:\\n\", conf_matrix)\n",
    "\n",
    "# Accuracy\n",
    "accuracy = accuracy_score(y_true, y_pred_labels)\n",
    "print(\"Accuracy: {:.2f}%\".format(accuracy * 100))\n",
    "\n",
    "# Precision\n",
    "precision = precision_score(y_true, y_pred_labels)\n",
    "print(\"Precision: {:.2f}%\".format(precision * 100))\n",
    "\n",
    "# Recall\n",
    "recall = recall_score(y_true, y_pred_labels)\n",
    "print(\"Recall: {:.2f}%\".format(recall * 100))\n",
    "\n",
    "# F1 Score\n",
    "f1 = f1_score(y_true, y_pred_labels)\n",
    "print(\"F1 Score: {:.2f}\".format(f1))"
   ]
  },
  {
   "cell_type": "markdown",
   "metadata": {},
   "source": [
    "# Pelee Net"
   ]
  },
  {
   "cell_type": "code",
   "execution_count": 8,
   "metadata": {},
   "outputs": [
    {
     "name": "stdout",
     "output_type": "stream",
     "text": [
      "Found 272 images belonging to 2 classes.\n"
     ]
    },
    {
     "name": "stderr",
     "output_type": "stream",
     "text": [
      "C:\\Users\\prans\\AppData\\Local\\Temp\\ipykernel_9856\\1661339511.py:20: UserWarning: `Model.predict_generator` is deprecated and will be removed in a future version. Please use `Model.predict`, which supports generators.\n",
      "  y_pred = model.predict_generator(test_generator)\n"
     ]
    },
    {
     "name": "stdout",
     "output_type": "stream",
     "text": [
      "Confusion Matrix:\n",
      " [[  0 127]\n",
      " [  0 145]]\n",
      "Accuracy: 53.31%\n",
      "Precision: 53.31%\n",
      "Recall: 100.00%\n",
      "F1 Score: 0.70\n"
     ]
    }
   ],
   "source": [
    "# Load your trained CNN model\n",
    "model = load_model('PeleeNet1.h5')\n",
    "\n",
    "# Define the path to your testing dataset\n",
    "test_data_dir = './test/'\n",
    "\n",
    "# Set up an ImageDataGenerator for testing data\n",
    "test_datagen = ImageDataGenerator(rescale=1./255)  # You may need to adjust other parameters based on your training data preprocessing\n",
    "\n",
    "# Set up the generator for testing data\n",
    "test_generator = test_datagen.flow_from_directory(\n",
    "    test_data_dir,\n",
    "    target_size=(224, 224),  # Replace with the size your model expects\n",
    "    batch_size=64,\n",
    "    class_mode='binary',  # Assuming you have binary classification (drowsy or non-drowsy)\n",
    "    shuffle=False  # Important to set this to False for evaluation\n",
    ")\n",
    "\n",
    "# Make predictions on the testing data\n",
    "y_pred = model.predict_generator(test_generator)\n",
    "\n",
    "# Convert probabilities to class labels\n",
    "y_pred_labels = (y_pred > 0.5).astype(int)\n",
    "\n",
    "# Get true labels\n",
    "y_true = test_generator.classes\n",
    "\n",
    "# Confusion Matrix\n",
    "conf_matrix = confusion_matrix(y_true, y_pred_labels)\n",
    "print(\"Confusion Matrix:\\n\", conf_matrix)\n",
    "\n",
    "# Accuracy\n",
    "accuracy = accuracy_score(y_true, y_pred_labels)\n",
    "print(\"Accuracy: {:.2f}%\".format(accuracy * 100))\n",
    "\n",
    "# Precision\n",
    "precision = precision_score(y_true, y_pred_labels)\n",
    "print(\"Precision: {:.2f}%\".format(precision * 100))\n",
    "\n",
    "# Recall\n",
    "recall = recall_score(y_true, y_pred_labels)\n",
    "print(\"Recall: {:.2f}%\".format(recall * 100))\n",
    "\n",
    "# F1 Score\n",
    "f1 = f1_score(y_true, y_pred_labels)\n",
    "print(\"F1 Score: {:.2f}\".format(f1))"
   ]
  },
  {
   "cell_type": "markdown",
   "metadata": {},
   "source": [
    "# Basic CNN"
   ]
  },
  {
   "cell_type": "code",
   "execution_count": 9,
   "metadata": {},
   "outputs": [
    {
     "name": "stdout",
     "output_type": "stream",
     "text": [
      "Found 272 images belonging to 2 classes.\n"
     ]
    },
    {
     "name": "stderr",
     "output_type": "stream",
     "text": [
      "C:\\Users\\prans\\AppData\\Local\\Temp\\ipykernel_9856\\426389874.py:20: UserWarning: `Model.predict_generator` is deprecated and will be removed in a future version. Please use `Model.predict`, which supports generators.\n",
      "  y_pred = model.predict_generator(test_generator)\n"
     ]
    },
    {
     "name": "stdout",
     "output_type": "stream",
     "text": [
      "Confusion Matrix:\n",
      " [[125   2]\n",
      " [  2 143]]\n",
      "Accuracy: 98.53%\n",
      "Precision: 98.62%\n",
      "Recall: 98.62%\n",
      "F1 Score: 0.99\n"
     ]
    }
   ],
   "source": [
    "# Load your trained CNN model\n",
    "model = load_model('drowsiness_detection_model.h5')\n",
    "\n",
    "# Define the path to your testing dataset\n",
    "test_data_dir = './test/'\n",
    "\n",
    "# Set up an ImageDataGenerator for testing data\n",
    "test_datagen = ImageDataGenerator(rescale=1./255)  # You may need to adjust other parameters based on your training data preprocessing\n",
    "\n",
    "# Set up the generator for testing data\n",
    "test_generator = test_datagen.flow_from_directory(\n",
    "    test_data_dir,\n",
    "    target_size=(224, 224),  # Replace with the size your model expects\n",
    "    batch_size=64,\n",
    "    class_mode='binary',  # Assuming you have binary classification (drowsy or non-drowsy)\n",
    "    shuffle=False  # Important to set this to False for evaluation\n",
    ")\n",
    "\n",
    "# Make predictions on the testing data\n",
    "y_pred = model.predict_generator(test_generator)\n",
    "\n",
    "# Convert probabilities to class labels\n",
    "y_pred_labels = (y_pred > 0.5).astype(int)\n",
    "\n",
    "# Get true labels\n",
    "y_true = test_generator.classes\n",
    "\n",
    "# Confusion Matrix\n",
    "conf_matrix = confusion_matrix(y_true, y_pred_labels)\n",
    "print(\"Confusion Matrix:\\n\", conf_matrix)\n",
    "\n",
    "# Accuracy\n",
    "accuracy = accuracy_score(y_true, y_pred_labels)\n",
    "print(\"Accuracy: {:.2f}%\".format(accuracy * 100))\n",
    "\n",
    "# Precision\n",
    "precision = precision_score(y_true, y_pred_labels)\n",
    "print(\"Precision: {:.2f}%\".format(precision * 100))\n",
    "\n",
    "# Recall\n",
    "recall = recall_score(y_true, y_pred_labels)\n",
    "print(\"Recall: {:.2f}%\".format(recall * 100))\n",
    "\n",
    "# F1 Score\n",
    "f1 = f1_score(y_true, y_pred_labels)\n",
    "print(\"F1 Score: {:.2f}\".format(f1))"
   ]
  }
 ],
 "metadata": {
  "kernelspec": {
   "display_name": "Python 3",
   "language": "python",
   "name": "python3"
  },
  "language_info": {
   "codemirror_mode": {
    "name": "ipython",
    "version": 3
   },
   "file_extension": ".py",
   "mimetype": "text/x-python",
   "name": "python",
   "nbconvert_exporter": "python",
   "pygments_lexer": "ipython3",
   "version": "3.11.6"
  }
 },
 "nbformat": 4,
 "nbformat_minor": 2
}
