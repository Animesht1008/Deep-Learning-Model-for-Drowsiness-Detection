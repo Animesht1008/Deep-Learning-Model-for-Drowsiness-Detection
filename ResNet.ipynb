{
 "cells": [
  {
   "cell_type": "code",
   "execution_count": 2,
   "metadata": {},
   "outputs": [],
   "source": [
    "import tensorflow as tf\n",
    "from keras.preprocessing.image import ImageDataGenerator\n",
    "from keras.applications import ResNet50\n",
    "from keras import layers, models"
   ]
  },
  {
   "cell_type": "code",
   "execution_count": 3,
   "metadata": {},
   "outputs": [],
   "source": [
    "# Define paths to your dataset\n",
    "train_data_dir = './train'\n",
    "test_data_dir = './test'"
   ]
  },
  {
   "cell_type": "code",
   "execution_count": 4,
   "metadata": {},
   "outputs": [],
   "source": [
    "# Set parameters\n",
    "img_width, img_height = 224, 224\n",
    "batch_size = 32\n",
    "epochs = 10"
   ]
  },
  {
   "cell_type": "code",
   "execution_count": 5,
   "metadata": {},
   "outputs": [],
   "source": [
    "# Create data generators\n",
    "train_datagen = ImageDataGenerator(rescale=1./255, shear_range=0.2, zoom_range=0.2, horizontal_flip=True)\n",
    "test_datagen = ImageDataGenerator(rescale=1./255)"
   ]
  },
  {
   "cell_type": "code",
   "execution_count": 6,
   "metadata": {},
   "outputs": [
    {
     "name": "stdout",
     "output_type": "stream",
     "text": [
      "Found 2149 images belonging to 2 classes.\n",
      "Found 271 images belonging to 2 classes.\n"
     ]
    }
   ],
   "source": [
    "train_generator = train_datagen.flow_from_directory(\n",
    "    train_data_dir,\n",
    "    target_size=(img_width, img_height),\n",
    "    batch_size=batch_size,\n",
    "    class_mode='binary'  # assuming binary classification (drowsy and non-drowsy)\n",
    ")\n",
    "\n",
    "test_generator = test_datagen.flow_from_directory(\n",
    "    test_data_dir,\n",
    "    target_size=(img_width, img_height),\n",
    "    batch_size=batch_size,\n",
    "    class_mode='binary'\n",
    ")"
   ]
  },
  {
   "cell_type": "code",
   "execution_count": 7,
   "metadata": {},
   "outputs": [
    {
     "name": "stdout",
     "output_type": "stream",
     "text": [
      "WARNING:tensorflow:From c:\\Users\\prans\\AppData\\Local\\Programs\\Python\\Python311\\Lib\\site-packages\\keras\\src\\backend.py:1398: The name tf.executing_eagerly_outside_functions is deprecated. Please use tf.compat.v1.executing_eagerly_outside_functions instead.\n",
      "\n",
      "WARNING:tensorflow:From c:\\Users\\prans\\AppData\\Local\\Programs\\Python\\Python311\\Lib\\site-packages\\keras\\src\\layers\\normalization\\batch_normalization.py:979: The name tf.nn.fused_batch_norm is deprecated. Please use tf.compat.v1.nn.fused_batch_norm instead.\n",
      "\n",
      "Downloading data from https://storage.googleapis.com/tensorflow/keras-applications/resnet/resnet50_weights_tf_dim_ordering_tf_kernels_notop.h5\n",
      "94765736/94765736 [==============================] - 17s 0us/step\n"
     ]
    }
   ],
   "source": [
    "# Load ResNet50 pre-trained model\n",
    "base_model = ResNet50(weights='imagenet', include_top=False, input_shape=(img_width, img_height, 3))"
   ]
  },
  {
   "cell_type": "code",
   "execution_count": 8,
   "metadata": {},
   "outputs": [],
   "source": [
    "# Freeze the convolutional layers\n",
    "base_model.trainable = False"
   ]
  },
  {
   "cell_type": "code",
   "execution_count": 9,
   "metadata": {},
   "outputs": [],
   "source": [
    "# Create a new model on top\n",
    "model = models.Sequential([\n",
    "    base_model,\n",
    "    layers.GlobalAveragePooling2D(),\n",
    "    layers.Dense(1, activation='sigmoid')  # Binary classification\n",
    "])"
   ]
  },
  {
   "cell_type": "code",
   "execution_count": 10,
   "metadata": {},
   "outputs": [
    {
     "name": "stdout",
     "output_type": "stream",
     "text": [
      "WARNING:tensorflow:From c:\\Users\\prans\\AppData\\Local\\Programs\\Python\\Python311\\Lib\\site-packages\\keras\\src\\optimizers\\__init__.py:309: The name tf.train.Optimizer is deprecated. Please use tf.compat.v1.train.Optimizer instead.\n",
      "\n"
     ]
    }
   ],
   "source": [
    "# Compile the model\n",
    "model.compile(optimizer='adam', loss='binary_crossentropy', metrics=['accuracy'])"
   ]
  },
  {
   "cell_type": "code",
   "execution_count": 11,
   "metadata": {},
   "outputs": [
    {
     "name": "stdout",
     "output_type": "stream",
     "text": [
      "Model: \"sequential\"\n",
      "_________________________________________________________________\n",
      " Layer (type)                Output Shape              Param #   \n",
      "=================================================================\n",
      " resnet50 (Functional)       (None, 7, 7, 2048)        23587712  \n",
      "                                                                 \n",
      " global_average_pooling2d (  (None, 2048)              0         \n",
      " GlobalAveragePooling2D)                                         \n",
      "                                                                 \n",
      " dense (Dense)               (None, 1)                 2049      \n",
      "                                                                 \n",
      "=================================================================\n",
      "Total params: 23589761 (89.99 MB)\n",
      "Trainable params: 2049 (8.00 KB)\n",
      "Non-trainable params: 23587712 (89.98 MB)\n",
      "_________________________________________________________________\n"
     ]
    }
   ],
   "source": [
    "# Display the model summary\n",
    "model.summary()"
   ]
  },
  {
   "cell_type": "code",
   "execution_count": 12,
   "metadata": {},
   "outputs": [
    {
     "name": "stdout",
     "output_type": "stream",
     "text": [
      "Epoch 1/10\n",
      "WARNING:tensorflow:From c:\\Users\\prans\\AppData\\Local\\Programs\\Python\\Python311\\Lib\\site-packages\\keras\\src\\utils\\tf_utils.py:492: The name tf.ragged.RaggedTensorValue is deprecated. Please use tf.compat.v1.ragged.RaggedTensorValue instead.\n",
      "\n",
      "WARNING:tensorflow:From c:\\Users\\prans\\AppData\\Local\\Programs\\Python\\Python311\\Lib\\site-packages\\keras\\src\\engine\\base_layer_utils.py:384: The name tf.executing_eagerly_outside_functions is deprecated. Please use tf.compat.v1.executing_eagerly_outside_functions instead.\n",
      "\n",
      "68/68 [==============================] - 120s 2s/step - loss: 0.6931 - accuracy: 0.5384 - val_loss: 0.6846 - val_accuracy: 0.5572\n",
      "Epoch 2/10\n",
      "68/68 [==============================] - 123s 2s/step - loss: 0.6909 - accuracy: 0.5365 - val_loss: 0.6827 - val_accuracy: 0.5166\n",
      "Epoch 3/10\n",
      "68/68 [==============================] - 125s 2s/step - loss: 0.6897 - accuracy: 0.5361 - val_loss: 0.6818 - val_accuracy: 0.5129\n",
      "Epoch 4/10\n",
      "68/68 [==============================] - 134s 2s/step - loss: 0.6785 - accuracy: 0.5691 - val_loss: 0.6683 - val_accuracy: 0.6199\n",
      "Epoch 5/10\n",
      "68/68 [==============================] - 126s 2s/step - loss: 0.6782 - accuracy: 0.5658 - val_loss: 0.6651 - val_accuracy: 0.6310\n",
      "Epoch 6/10\n",
      "68/68 [==============================] - 119s 2s/step - loss: 0.6759 - accuracy: 0.5724 - val_loss: 0.6663 - val_accuracy: 0.5756\n",
      "Epoch 7/10\n",
      "68/68 [==============================] - 121s 2s/step - loss: 0.6727 - accuracy: 0.5863 - val_loss: 0.6613 - val_accuracy: 0.5904\n",
      "Epoch 8/10\n",
      "68/68 [==============================] - 120s 2s/step - loss: 0.6708 - accuracy: 0.5905 - val_loss: 0.6559 - val_accuracy: 0.6421\n",
      "Epoch 9/10\n",
      "68/68 [==============================] - 120s 2s/step - loss: 0.6748 - accuracy: 0.5784 - val_loss: 0.6619 - val_accuracy: 0.6162\n",
      "Epoch 10/10\n",
      "68/68 [==============================] - 116s 2s/step - loss: 0.6679 - accuracy: 0.5891 - val_loss: 0.6499 - val_accuracy: 0.6421\n"
     ]
    }
   ],
   "source": [
    "# Train the model\n",
    "history = model.fit(train_generator, epochs=epochs, validation_data=test_generator)"
   ]
  },
  {
   "cell_type": "code",
   "execution_count": 13,
   "metadata": {},
   "outputs": [
    {
     "name": "stderr",
     "output_type": "stream",
     "text": [
      "c:\\Users\\prans\\AppData\\Local\\Programs\\Python\\Python311\\Lib\\site-packages\\keras\\src\\engine\\training.py:3103: UserWarning: You are saving your model as an HDF5 file via `model.save()`. This file format is considered legacy. We recommend using instead the native Keras format, e.g. `model.save('my_model.keras')`.\n",
      "  saving_api.save_model(\n"
     ]
    }
   ],
   "source": [
    "# Save the trained model\n",
    "model.save('26_11_2023_(23_37)_drowsiness_detection_resnet.h5')"
   ]
  },
  {
   "cell_type": "code",
   "execution_count": 14,
   "metadata": {},
   "outputs": [],
   "source": [
    "# Plot the training and validation curves\n",
    "import matplotlib.pyplot as plt"
   ]
  },
  {
   "cell_type": "code",
   "execution_count": 15,
   "metadata": {},
   "outputs": [
    {
     "data": {
      "text/plain": [
       "<Figure size 1200x600 with 0 Axes>"
      ]
     },
     "execution_count": 15,
     "metadata": {},
     "output_type": "execute_result"
    },
    {
     "data": {
      "text/plain": [
       "<Figure size 1200x600 with 0 Axes>"
      ]
     },
     "metadata": {},
     "output_type": "display_data"
    }
   ],
   "source": [
    "plt.figure(figsize=(12, 6))"
   ]
  },
  {
   "cell_type": "code",
   "execution_count": 16,
   "metadata": {},
   "outputs": [
    {
     "data": {
      "text/plain": [
       "<matplotlib.legend.Legend at 0x1f801ab9f10>"
      ]
     },
     "execution_count": 16,
     "metadata": {},
     "output_type": "execute_result"
    },
    {
     "data": {
      "image/png": "[encoded data removed]",
      "text/plain": [
       "<Figure size 640x480 with 1 Axes>"
      ]
     },
     "metadata": {},
     "output_type": "display_data"
    }
   ],
   "source": [
    "# Plot training & validation accuracy values\n",
    "plt.subplot(1, 2, 1)\n",
    "plt.plot(history.history['accuracy'])\n",
    "plt.plot(history.history['val_accuracy'])\n",
    "plt.title('ResNet Model Accuracy')\n",
    "plt.xlabel('Epoch')\n",
    "plt.ylabel('Accuracy')\n",
    "plt.legend(['Train', 'Validation'], loc='upper left')"
   ]
  },
  {
   "cell_type": "code",
   "execution_count": 17,
   "metadata": {},
   "outputs": [
    {
     "data": {
      "text/plain": [
       "<matplotlib.legend.Legend at 0x1f801b1a090>"
      ]
     },
     "execution_count": 17,
     "metadata": {},
     "output_type": "execute_result"
    },
    {
     "data": {
      "image/png": "[encoded data removed]",
      "text/plain": [
       "<Figure size 640x480 with 1 Axes>"
      ]
     },
     "metadata": {},
     "output_type": "display_data"
    }
   ],
   "source": [
    "# Plot training & validation loss values\n",
    "plt.subplot(1, 2, 2)\n",
    "plt.plot(history.history['loss'])\n",
    "plt.plot(history.history['val_loss'])\n",
    "plt.title('ResNet Model Loss')\n",
    "plt.xlabel('Epoch')\n",
    "plt.ylabel('Loss')\n",
    "plt.legend(['Train', 'Validation'], loc='upper left')"
   ]
  },
  {
   "cell_type": "code",
   "execution_count": 18,
   "metadata": {},
   "outputs": [
    {
     "data": {
      "text/plain": [
       "<Figure size 640x480 with 0 Axes>"
      ]
     },
     "metadata": {},
     "output_type": "display_data"
    }
   ],
   "source": [
    "plt.tight_layout()\n",
    "plt.show()"
   ]
  },
  {
   "cell_type": "code",
   "execution_count": 2,
   "metadata": {},
   "outputs": [
    {
     "name": "stdout",
     "output_type": "stream",
     "text": [
      "Found 2149 images belonging to 2 classes.\n",
      "Found 272 images belonging to 2 classes.\n",
      "Found 268 images belonging to 2 classes.\n",
      "WARNING:tensorflow:From c:\\Users\\prans\\AppData\\Local\\Programs\\Python\\Python311\\Lib\\site-packages\\keras\\src\\backend.py:1398: The name tf.executing_eagerly_outside_functions is deprecated. Please use tf.compat.v1.executing_eagerly_outside_functions instead.\n",
      "\n",
      "WARNING:tensorflow:From c:\\Users\\prans\\AppData\\Local\\Programs\\Python\\Python311\\Lib\\site-packages\\keras\\src\\layers\\normalization\\batch_normalization.py:979: The name tf.nn.fused_batch_norm is deprecated. Please use tf.compat.v1.nn.fused_batch_norm instead.\n",
      "\n",
      "WARNING:tensorflow:From c:\\Users\\prans\\AppData\\Local\\Programs\\Python\\Python311\\Lib\\site-packages\\keras\\src\\optimizers\\__init__.py:309: The name tf.train.Optimizer is deprecated. Please use tf.compat.v1.train.Optimizer instead.\n",
      "\n",
      "Model: \"sequential\"\n",
      "_________________________________________________________________\n",
      " Layer (type)                Output Shape              Param #   \n",
      "=================================================================\n",
      " resnet50 (Functional)       (None, 7, 7, 2048)        23587712  \n",
      "                                                                 \n",
      " global_average_pooling2d (  (None, 2048)              0         \n",
      " GlobalAveragePooling2D)                                         \n",
      "                                                                 \n",
      " dense (Dense)               (None, 1)                 2049      \n",
      "                                                                 \n",
      "=================================================================\n",
      "Total params: 23589761 (89.99 MB)\n",
      "Trainable params: 2049 (8.00 KB)\n",
      "Non-trainable params: 23587712 (89.98 MB)\n",
      "_________________________________________________________________\n",
      "Epoch 1/20\n",
      "WARNING:tensorflow:From c:\\Users\\prans\\AppData\\Local\\Programs\\Python\\Python311\\Lib\\site-packages\\keras\\src\\utils\\tf_utils.py:492: The name tf.ragged.RaggedTensorValue is deprecated. Please use tf.compat.v1.ragged.RaggedTensorValue instead.\n",
      "\n",
      "WARNING:tensorflow:From c:\\Users\\prans\\AppData\\Local\\Programs\\Python\\Python311\\Lib\\site-packages\\keras\\src\\engine\\base_layer_utils.py:384: The name tf.executing_eagerly_outside_functions is deprecated. Please use tf.compat.v1.executing_eagerly_outside_functions instead.\n",
      "\n",
      "34/34 [==============================] - 141s 4s/step - loss: 0.7418 - accuracy: 0.5147 - val_loss: 0.6913 - val_accuracy: 0.4853\n",
      "Epoch 2/20\n",
      "34/34 [==============================] - 109s 3s/step - loss: 0.6869 - accuracy: 0.5444 - val_loss: 0.6871 - val_accuracy: 0.5515\n",
      "Epoch 3/20\n",
      "34/34 [==============================] - 110s 3s/step - loss: 0.6857 - accuracy: 0.5654 - val_loss: 0.6823 - val_accuracy: 0.5368\n",
      "Epoch 4/20\n",
      "34/34 [==============================] - 112s 3s/step - loss: 0.6836 - accuracy: 0.5570 - val_loss: 0.6794 - val_accuracy: 0.6287\n",
      "Epoch 5/20\n",
      "34/34 [==============================] - 112s 3s/step - loss: 0.6823 - accuracy: 0.5631 - val_loss: 0.6744 - val_accuracy: 0.6140\n",
      "Epoch 6/20\n",
      "34/34 [==============================] - 113s 3s/step - loss: 0.6794 - accuracy: 0.5686 - val_loss: 0.6719 - val_accuracy: 0.6140\n",
      "Epoch 7/20\n",
      "34/34 [==============================] - 114s 3s/step - loss: 0.6774 - accuracy: 0.5696 - val_loss: 0.6701 - val_accuracy: 0.6066\n",
      "Epoch 8/20\n",
      "34/34 [==============================] - 115s 3s/step - loss: 0.6779 - accuracy: 0.5752 - val_loss: 0.6706 - val_accuracy: 0.6397\n",
      "Epoch 9/20\n",
      "34/34 [==============================] - 115s 3s/step - loss: 0.6741 - accuracy: 0.5812 - val_loss: 0.6658 - val_accuracy: 0.6176\n",
      "Epoch 10/20\n",
      "34/34 [==============================] - 115s 3s/step - loss: 0.6739 - accuracy: 0.5761 - val_loss: 0.6624 - val_accuracy: 0.6103\n",
      "Epoch 11/20\n",
      "34/34 [==============================] - 120s 4s/step - loss: 0.6751 - accuracy: 0.5900 - val_loss: 0.6602 - val_accuracy: 0.6287\n",
      "Epoch 12/20\n",
      "34/34 [==============================] - 123s 4s/step - loss: 0.6705 - accuracy: 0.5919 - val_loss: 0.6584 - val_accuracy: 0.6213\n",
      "Epoch 13/20\n",
      "34/34 [==============================] - 122s 4s/step - loss: 0.6689 - accuracy: 0.5872 - val_loss: 0.6569 - val_accuracy: 0.6213\n",
      "Epoch 14/20\n",
      "34/34 [==============================] - 121s 4s/step - loss: 0.6668 - accuracy: 0.5924 - val_loss: 0.6552 - val_accuracy: 0.6213\n",
      "Epoch 15/20\n",
      "34/34 [==============================] - 121s 4s/step - loss: 0.6677 - accuracy: 0.5933 - val_loss: 0.6547 - val_accuracy: 0.6434\n",
      "Epoch 16/20\n",
      "34/34 [==============================] - 139s 4s/step - loss: 0.6685 - accuracy: 0.5919 - val_loss: 0.6512 - val_accuracy: 0.6324\n",
      "Epoch 17/20\n",
      "34/34 [==============================] - 151s 4s/step - loss: 0.6638 - accuracy: 0.6007 - val_loss: 0.6496 - val_accuracy: 0.6176\n",
      "Epoch 18/20\n",
      "34/34 [==============================] - 137s 4s/step - loss: 0.6630 - accuracy: 0.5938 - val_loss: 0.6481 - val_accuracy: 0.6176\n",
      "Epoch 19/20\n",
      "34/34 [==============================] - 137s 4s/step - loss: 0.6611 - accuracy: 0.6021 - val_loss: 0.6565 - val_accuracy: 0.5588\n",
      "Epoch 20/20\n",
      "34/34 [==============================] - 120s 4s/step - loss: 0.6625 - accuracy: 0.6068 - val_loss: 0.6492 - val_accuracy: 0.6507\n"
     ]
    },
    {
     "name": "stderr",
     "output_type": "stream",
     "text": [
      "c:\\Users\\prans\\AppData\\Local\\Programs\\Python\\Python311\\Lib\\site-packages\\keras\\src\\engine\\training.py:3103: UserWarning: You are saving your model as an HDF5 file via `model.save()`. This file format is considered legacy. We recommend using instead the native Keras format, e.g. `model.save('my_model.keras')`.\n",
      "  saving_api.save_model(\n"
     ]
    }
   ],
   "source": [
    "import tensorflow as tf\n",
    "from keras.preprocessing.image import ImageDataGenerator\n",
    "from keras.applications import ResNet50\n",
    "from keras import layers, models\n",
    "\n",
    "# Define paths to your dataset\n",
    "train_data_dir = './train'\n",
    "test_data_dir = './test'\n",
    "val_data_dir = './val'\n",
    "\n",
    "# Set parameters\n",
    "img_width, img_height = 224, 224\n",
    "batch_size = 64\n",
    "epochs = 20\n",
    "\n",
    "# Create data generators\n",
    "train_datagen = ImageDataGenerator(rescale=1./255, shear_range=0.2, zoom_range=0.2, horizontal_flip=True)\n",
    "test_datagen = ImageDataGenerator(rescale=1./255)\n",
    "val_datagen = ImageDataGenerator(rescale=1./255)\n",
    "\n",
    "train_generator = train_datagen.flow_from_directory(\n",
    "    train_data_dir,\n",
    "    target_size=(img_width, img_height),\n",
    "    batch_size=batch_size,\n",
    "    class_mode='binary'  # assuming binary classification (drowsy and non-drowsy)\n",
    ")\n",
    "\n",
    "test_generator = test_datagen.flow_from_directory(\n",
    "    test_data_dir,\n",
    "    target_size=(img_width, img_height),\n",
    "    batch_size=batch_size,\n",
    "    class_mode='binary'\n",
    ")\n",
    "\n",
    "val_generator = val_datagen.flow_from_directory(\n",
    "    val_data_dir,\n",
    "    target_size=(img_width, img_height),\n",
    "    batch_size=batch_size,\n",
    "    class_mode='binary'\n",
    ")\n",
    "\n",
    "# Load ResNet50 pre-trained model\n",
    "base_model = ResNet50(weights='imagenet', include_top=False, input_shape=(img_width, img_height, 3))\n",
    "\n",
    "# Freeze the convolutional layers\n",
    "base_model.trainable = False\n",
    "\n",
    "# Create a new model on top\n",
    "model = models.Sequential([\n",
    "    base_model,\n",
    "    layers.GlobalAveragePooling2D(),\n",
    "    layers.Dense(1, activation='sigmoid')  # Binary classification\n",
    "])\n",
    "\n",
    "# Compile the model\n",
    "model.compile(optimizer='adam', loss='binary_crossentropy', metrics=['accuracy'])\n",
    "\n",
    "# Display the model summary\n",
    "model.summary()\n",
    "\n",
    "# Train the model\n",
    "history = model.fit(train_generator, epochs=epochs, validation_data=test_generator)\n",
    "\n",
    "# Save the trained model\n",
    "model.save('30_11_2023_(17_57)_drowsiness_detection_resnet.h5')"
   ]
  }
 ],
 "metadata": {
  "kernelspec": {
   "display_name": "Python 3",
   "language": "python",
   "name": "python3"
  },
  "language_info": {
   "codemirror_mode": {
    "name": "ipython",
    "version": 3
   },
   "file_extension": ".py",
   "mimetype": "text/x-python",
   "name": "python",
   "nbconvert_exporter": "python",
   "pygments_lexer": "ipython3",
   "version": "3.11.6"
  }
 },
 "nbformat": 4,
 "nbformat_minor": 2
}
